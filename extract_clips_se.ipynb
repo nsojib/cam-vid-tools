{
 "cells": [
  {
   "cell_type": "code",
   "execution_count": 1,
   "metadata": {},
   "outputs": [],
   "source": [
    "import cv2\n",
    "import time\n",
    "from collections import deque\n",
    "import argparse\n",
    "import os\n",
    "\n",
    "from glob import glob"
   ]
  },
  {
   "cell_type": "code",
   "execution_count": 2,
   "metadata": {},
   "outputs": [],
   "source": [
    "def txt2vidoname_ses(data_dir, txtfile):\n",
    "    fn=os.path.basename(txtfile).split(\".\")[0]+\".mp4\"\n",
    "    video_fn=data_dir+fn \n",
    "    with open(txtfile, \"r\") as f:\n",
    "        lines=f.readlines()\n",
    "        \n",
    "    action=lines[1].strip()\n",
    "    line=lines[2].strip()\n",
    "\n",
    "    ses=eval(line)\n",
    "    return video_fn, ses, action"
   ]
  },
  {
   "cell_type": "code",
   "execution_count": 3,
   "metadata": {},
   "outputs": [],
   "source": [
    "def video2clips(data_dir, video_fn, ses, action_name):\n",
    "    \"\"\"\n",
    "    ses: [start,end, start2,end2, ...]\n",
    "    \"\"\"\n",
    "    if not os.path.exists(video_fn):\n",
    "        video_fn=video_fn.replace(\"mp4\", \"mov\")\n",
    "    if not os.path.exists(video_fn):\n",
    "        video_fn=video_fn.replace(\"mov\", \"MOV\")\n",
    "\n",
    "    print('-'*10, \"\\nopening video file=\", video_fn, \" len(ses)=\", len(ses))\n",
    "    video=cv2.VideoCapture(video_fn)\n",
    "    imgs=[]\n",
    "    i=0\n",
    "\n",
    "    clip_id=0\n",
    "    s,e=ses[clip_id*2], ses[clip_id*2+1]\n",
    "    while(video.isOpened()):\n",
    "        ret, frame = video.read()\n",
    "        if ret==False: break\n",
    "        \n",
    "        if i>=s and i<=e:\n",
    "            imgs.append(frame)\n",
    "        elif i>e: \n",
    "            #save imgs as clip video\n",
    "            fn=os.path.basename(video_fn).split(\".\")[0]\n",
    "            clip_fn=data_dir+f\"clips_{action_name}\\\\\"+fn.split(\".\")[0]+\"_\"+str(clip_id)+\".mp4\"\n",
    "            print(\"saving clip_fn=\", clip_fn , \" se: \", s,e, \" len(imgs): \", len(imgs) )\n",
    "            fourcc = cv2.VideoWriter_fourcc(*'mp4v')\n",
    "            out = cv2.VideoWriter(clip_fn,fourcc, 30.0, (imgs[0].shape[1],imgs[0].shape[0]))\n",
    "            for img in imgs:\n",
    "                out.write(img)\n",
    "            out.release()\n",
    "\n",
    "\n",
    "            clip_id+=1\n",
    "            if clip_id < ( len(ses)/2 ):\n",
    "                s,e=ses[clip_id*2], ses[clip_id*2+1]\n",
    "                imgs=[]  \n",
    "            else:\n",
    "                break\n",
    "\n",
    "        i+=1\n",
    "        \n",
    "\n",
    "    video.release() "
   ]
  },
  {
   "cell_type": "code",
   "execution_count": null,
   "metadata": {},
   "outputs": [],
   "source": []
  },
  {
   "cell_type": "code",
   "execution_count": 4,
   "metadata": {},
   "outputs": [
    {
     "data": {
      "text/plain": [
       "['C:\\\\Users\\\\noush\\\\Downloads\\\\Eating\\\\txts_noteating\\\\Dain Eating 1.txt',\n",
       " 'C:\\\\Users\\\\noush\\\\Downloads\\\\Eating\\\\txts_noteating\\\\Dain Eating 2.txt',\n",
       " 'C:\\\\Users\\\\noush\\\\Downloads\\\\Eating\\\\txts_noteating\\\\Eating Pasta.txt',\n",
       " 'C:\\\\Users\\\\noush\\\\Downloads\\\\Eating\\\\txts_noteating\\\\eating_sample.txt']"
      ]
     },
     "execution_count": 4,
     "metadata": {},
     "output_type": "execute_result"
    }
   ],
   "source": [
    "data_dir=\"C:\\\\Users\\\\noush\\\\Downloads\\\\Eating\\\\\"\n",
    "meta_dir=data_dir+\"txts_noteating\\\\\"\n",
    "files=glob(meta_dir+\"*.txt\")\n",
    "files"
   ]
  },
  {
   "cell_type": "code",
   "execution_count": 5,
   "metadata": {},
   "outputs": [],
   "source": [
    "# video_fn, ses, action=txt2vidoname_ses(data_dir, files[0])\n",
    "# video2clips(data_dir, video_fn, ses, action)"
   ]
  },
  {
   "cell_type": "code",
   "execution_count": null,
   "metadata": {},
   "outputs": [],
   "source": []
  },
  {
   "cell_type": "code",
   "execution_count": null,
   "metadata": {},
   "outputs": [],
   "source": []
  },
  {
   "cell_type": "code",
   "execution_count": 6,
   "metadata": {},
   "outputs": [
    {
     "name": "stdout",
     "output_type": "stream",
     "text": [
      "---------- \n",
      "opening video file= C:\\Users\\noush\\Downloads\\Eating\\Dain Eating 1.mp4  len(ses)= 18\n",
      "saving clip_fn= C:\\Users\\noush\\Downloads\\Eating\\clips_noteating\\Dain Eating 1_0.mp4  se:  8 205  len(imgs):  198\n"
     ]
    }
   ],
   "source": [
    "#get filename\n",
    "file_id=0\n",
    "file_id=1\n",
    "\n",
    "for file_id in range(len(files)):\n",
    "    video_fn, ses, action=txt2vidoname_ses(data_dir, files[file_id])\n",
    "    video2clips(data_dir, video_fn, ses, action) "
   ]
  },
  {
   "cell_type": "code",
   "execution_count": null,
   "metadata": {},
   "outputs": [],
   "source": []
  },
  {
   "cell_type": "code",
   "execution_count": null,
   "metadata": {},
   "outputs": [],
   "source": []
  },
  {
   "cell_type": "code",
   "execution_count": null,
   "metadata": {},
   "outputs": [],
   "source": []
  },
  {
   "cell_type": "code",
   "execution_count": null,
   "metadata": {},
   "outputs": [],
   "source": []
  },
  {
   "cell_type": "code",
   "execution_count": null,
   "metadata": {},
   "outputs": [],
   "source": []
  }
 ],
 "metadata": {
  "kernelspec": {
   "display_name": "base",
   "language": "python",
   "name": "python3"
  },
  "language_info": {
   "codemirror_mode": {
    "name": "ipython",
    "version": 3
   },
   "file_extension": ".py",
   "mimetype": "text/x-python",
   "name": "python",
   "nbconvert_exporter": "python",
   "pygments_lexer": "ipython3",
   "version": "3.9.12"
  },
  "orig_nbformat": 4
 },
 "nbformat": 4,
 "nbformat_minor": 2
}
