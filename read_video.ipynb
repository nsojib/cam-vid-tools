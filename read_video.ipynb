{
 "cells": [
  {
   "cell_type": "code",
   "execution_count": 1,
   "metadata": {},
   "outputs": [],
   "source": [
    "import numpy as np\n",
    "import cv2\n",
    "import matplotlib.pyplot as plt\n",
    "#clear output\n",
    "from IPython.display import clear_output\n",
    "import threading\n",
    "import time\n",
    "from collections import deque"
   ]
  },
  {
   "cell_type": "code",
   "execution_count": 2,
   "metadata": {},
   "outputs": [],
   "source": [
    "data_dir=\"C:\\\\Users\\\\noush\\\\Downloads\\\\Eating\\\\\"\n",
    "\n",
    "fn=\"Dain Eating 1.mp4\"\n",
    "file_path=data_dir+fn"
   ]
  },
  {
   "cell_type": "code",
   "execution_count": 3,
   "metadata": {},
   "outputs": [],
   "source": [
    "class VideoLoader:\n",
    "    def __init__(self, file_path, max_buffered_frames=100):\n",
    "        self.video=cv2.VideoCapture(file_path)\n",
    "\n",
    "        fpc=self.video.get(cv2.CAP_PROP_FRAME_COUNT) \n",
    "        fps = self.video.get(cv2.CAP_PROP_FPS)\n",
    "        duration = fpc/fps\n",
    "        self.delay=duration/fpc \n",
    "        print(f'fps={fps}, fpc={fpc}  duration={duration} seconds delay={self.delay} seconds')\n",
    "\n",
    "        self.buffer=deque(maxlen=max_buffered_frames)\n",
    "        while(self.video.isOpened()):\n",
    "            ret, frame = self.video.read()\n",
    "            self.buffer.append(frame)\n",
    "            break \n",
    "            # if ret==False: break\n",
    "            # self.buffer.append(frame)\n",
    "            # if len(self.buffer)==self.buffer.maxlen: \n",
    "            #     break \n",
    "\n",
    "        self.current_frame_id=0\n",
    "        self.count=-1\n",
    "\n",
    "    def current_frame(self):\n",
    "        return self.buffer[self.current_frame_id]\n",
    "    \n",
    "    def next_frame(self):\n",
    "        self.current_frame_id+=1\n",
    "        self.count+=1\n",
    "\n",
    "        if self.current_frame_id<len(self.buffer): # buffer has the frame\n",
    "            return True\n",
    "        elif len(self.buffer)<self.buffer.maxlen: # buffer is not fully loaded\n",
    "            ret=False\n",
    "            if self.video.isOpened():\n",
    "                ret, frame = self.video.read()\n",
    "            \n",
    "            if ret==False: return False\n",
    "            self.buffer.append(frame) \n",
    "            \n",
    "            return True\n",
    "        else:                                      # buffer is full and requested frame is ahead of buffer\n",
    "            ret=False\n",
    "            if self.video.isOpened():\n",
    "                ret, frame = self.video.read()\n",
    "            \n",
    "            if ret==False: return False\n",
    "            self.buffer.append(frame)\n",
    "            self.current_frame_id-=1               # move back the current frame id\n",
    "            return True\n",
    "        \n",
    "    def prev_frame(self):\n",
    "        if self.current_frame_id>0:\n",
    "            self.current_frame_id-=1\n",
    "            self.count-=1\n",
    "            return True \n",
    "        else:\n",
    "            return False\n",
    "            \n",
    "\n",
    "    def close(self):\n",
    "        self.video.release()"
   ]
  },
  {
   "cell_type": "code",
   "execution_count": null,
   "metadata": {},
   "outputs": [],
   "source": []
  },
  {
   "cell_type": "code",
   "execution_count": 19,
   "metadata": {},
   "outputs": [
    {
     "name": "stdout",
     "output_type": "stream",
     "text": [
      "fps=30.0, fpc=3342.0  duration=111.4 seconds delay=0.03333333333333333 seconds\n",
      "frame_ids=[281]\n",
      "frame_ids=[281, 348]\n",
      "frame_ids=[281, 348, 772]\n",
      "frame_ids=[281, 348, 772, 820]\n",
      "frame_ids=[281, 348, 772, 820, 1163]\n",
      "frame_ids=[281, 348, 772, 820, 1163, 1232]\n",
      "frame_ids=[281, 348, 772, 820, 1163, 1232, 1504]\n",
      "frame_ids=[281, 348, 772, 820, 1163, 1232, 1504, 1549]\n",
      "frame_ids=[281, 348, 772, 820, 1163, 1232, 1504, 1549, 1962]\n",
      "frame_ids=[281, 348, 772, 820, 1163, 1232, 1504, 1549, 1962, 2004]\n",
      "frame_ids=[281, 348, 772, 820, 1163, 1232, 1504, 1549, 1962, 2004, 2273]\n",
      "frame_ids=[281, 348, 772, 820, 1163, 1232, 1504, 1549, 1962, 2004, 2273, 2332]\n",
      "frame_ids=[281, 348, 772, 820, 1163, 1232, 1504, 1549, 1962, 2004, 2273, 2332, 2628]\n",
      "frame_ids=[281, 348, 772, 820, 1163, 1232, 1504, 1549, 1962, 2004, 2273, 2332, 2628, 2683]\n",
      "frame_ids=[281, 348, 772, 820, 1163, 1232, 1504, 1549, 1962, 2004, 2273, 2332, 2628, 2683, 2987]\n",
      "frame_ids=[281, 348, 772, 820, 1163, 1232, 1504, 1549, 1962, 2004, 2273, 2332, 2628, 2683, 2987, 3033]\n"
     ]
    }
   ],
   "source": [
    "vl=VideoLoader(file_path, max_buffered_frames=500)\n",
    "\n",
    "closed=False\n",
    "key_pressed=None \n",
    "paused=False\n",
    "\n",
    "frame_ids=[]\n",
    "\n",
    "while True:\n",
    "    img=vl.current_frame().copy()\n",
    "\n",
    "    if vl.current_frame().shape[0]>700:\n",
    "        w,h,_=vl.current_frame().shape\n",
    "        scale=0.5\n",
    "        img=cv2.resize(vl.current_frame(), (int(h*scale), int(w*scale)))\n",
    "\n",
    "    # frame_no=vl.current_frame_id\n",
    "    frame_no=vl.count\n",
    "\n",
    "    if frame_no==1: paused=True\n",
    "\n",
    "\n",
    "    font = cv2.FONT_HERSHEY_SIMPLEX\n",
    "    text = 'Frame: ' + str(frame_no)\n",
    "    cv2.putText(img, text, (10, 50), font, 1, (0, 255, 255), 2, cv2.LINE_AA)\n",
    "\n",
    "    info=f\"space: pause/play \\nq: quit \\na: previous frame \\nd: next frame\\ns: save frame\\nty: -+t\\ndelay: {vl.delay:.4f} seconds\"\n",
    "    y0, dy = 50, 20\n",
    "    for i, line in enumerate(info.split('\\n')):\n",
    "        y = y0 + i*dy\n",
    "        cv2.putText(img, line, (200, y ), font, 0.5, (0, 255, 255), 1, cv2.LINE_AA)\n",
    "        # cv2.putText(img, line, (100, y ), cv2.FONT_HERSHEY_SIMPLEX, 1, 2)\n",
    "\n",
    "\n",
    "    cv2.imshow('Video', img)\n",
    "    #get key pressed\n",
    "    key_pressed=cv2.waitKey(1)\n",
    "\n",
    "    \n",
    "    if not paused and key_pressed & 0xFF == ord(' '):\n",
    "        paused=True \n",
    "    elif paused and key_pressed & 0xFF == ord(' '):\n",
    "        paused=False\n",
    "    elif key_pressed & 0xFF == ord('a'):\n",
    "        if not vl.prev_frame(): break  \n",
    "        \n",
    "    elif key_pressed & 0xFF == ord('d'):\n",
    "        if not vl.next_frame(): break\n",
    "    \n",
    "    elif key_pressed & 0xFF == ord('t'):\n",
    "        vl.delay -= 0.005\n",
    "        if vl.delay <0.001: vl.delay=0.001\n",
    "        \n",
    "    elif key_pressed & 0xFF == ord('y'):\n",
    "        vl.delay += 0.005\n",
    "\n",
    "    elif key_pressed & 0xFF == ord('s'):\n",
    "        frame_ids.append(frame_no)\n",
    "        print(f'frame_ids={frame_ids}')\n",
    "\n",
    "    if key_pressed & 0xFF == ord('q'): \n",
    "        break \n",
    "\n",
    "    if not paused:\n",
    "        if not vl.next_frame(): break\n",
    "    time.sleep(vl.delay)\n",
    "\n",
    "closed=True \n",
    "cv2.destroyAllWindows()  "
   ]
  },
  {
   "cell_type": "code",
   "execution_count": 20,
   "metadata": {},
   "outputs": [
    {
     "data": {
      "text/plain": [
       "16"
      ]
     },
     "execution_count": 20,
     "metadata": {},
     "output_type": "execute_result"
    }
   ],
   "source": [
    "len(frame_ids)"
   ]
  },
  {
   "cell_type": "code",
   "execution_count": 23,
   "metadata": {},
   "outputs": [
    {
     "data": {
      "text/plain": [
       "16"
      ]
     },
     "execution_count": 23,
     "metadata": {},
     "output_type": "execute_result"
    }
   ],
   "source": [
    "frame_ids=[281, 348, 772, 820, 1163, 1232, 1504, 1549, 1962, 2004, 2273, 2332, 2628, 2683, 2987, 3033]\n",
    "len(frame_ids)"
   ]
  },
  {
   "cell_type": "code",
   "execution_count": null,
   "metadata": {},
   "outputs": [],
   "source": []
  },
  {
   "cell_type": "code",
   "execution_count": null,
   "metadata": {},
   "outputs": [],
   "source": []
  },
  {
   "cell_type": "code",
   "execution_count": null,
   "metadata": {},
   "outputs": [],
   "source": []
  },
  {
   "cell_type": "code",
   "execution_count": null,
   "metadata": {},
   "outputs": [],
   "source": []
  }
 ],
 "metadata": {
  "kernelspec": {
   "display_name": "base",
   "language": "python",
   "name": "python3"
  },
  "language_info": {
   "codemirror_mode": {
    "name": "ipython",
    "version": 3
   },
   "file_extension": ".py",
   "mimetype": "text/x-python",
   "name": "python",
   "nbconvert_exporter": "python",
   "pygments_lexer": "ipython3",
   "version": "3.9.12"
  },
  "orig_nbformat": 4
 },
 "nbformat": 4,
 "nbformat_minor": 2
}
